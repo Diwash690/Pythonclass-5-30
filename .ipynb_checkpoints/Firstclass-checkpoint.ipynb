{
 "cells": [
  {
   "cell_type": "code",
   "execution_count": 1,
   "id": "1d18403a",
   "metadata": {},
   "outputs": [
    {
     "name": "stdout",
     "output_type": "stream",
     "text": [
      "10\n",
      "10.5\n",
      "Hello world\n"
     ]
    }
   ],
   "source": [
    "a = 10 \n",
    "b = 10.5\n",
    "c = \"Hello world\"\n",
    "print(a)\n",
    "print(b)\n",
    "print(c)"
   ]
  },
  {
   "cell_type": "code",
   "execution_count": 2,
   "id": "f32103f0",
   "metadata": {},
   "outputs": [
    {
     "name": "stdout",
     "output_type": "stream",
     "text": [
      "10 10.5 Hello world\n"
     ]
    }
   ],
   "source": [
    "print(a, b, c)"
   ]
  },
  {
   "cell_type": "code",
   "execution_count": 4,
   "id": "b2492e90",
   "metadata": {},
   "outputs": [
    {
     "name": "stdout",
     "output_type": "stream",
     "text": [
      "<class 'int'>\n",
      "<class 'float'>\n",
      "<class 'str'>\n",
      "<class 'bool'>\n"
     ]
    }
   ],
   "source": [
    "#Data types\n",
    "\n",
    "a = 10 \n",
    "b = 10.5\n",
    "c = \"Hello world\"\n",
    "d = True\n",
    "print(type(a))\n",
    "print(type(b))\n",
    "print(type(c))\n",
    "print (type(d))\n"
   ]
  },
  {
   "cell_type": "code",
   "execution_count": null,
   "id": "cea7021a",
   "metadata": {},
   "outputs": [],
   "source": [
    "#Basic operators\n",
    "#1.Basic mathmatics operators\n",
    "+ \n",
    "- \n",
    "* \n",
    "/ \n",
    "% \n",
    "# ** power \n",
    "# // flowr division\n",
    "# Operants are used to decleare Operaters which is (a,b,c) in below."
   ]
  },
  {
   "cell_type": "code",
   "execution_count": 5,
   "id": "976c2616",
   "metadata": {},
   "outputs": [
    {
     "name": "stdout",
     "output_type": "stream",
     "text": [
      "50\n"
     ]
    }
   ],
   "source": [
    "a = 20\n",
    "b = 30 \n",
    "c = a+b\n",
    "print(c)"
   ]
  },
  {
   "cell_type": "code",
   "execution_count": 6,
   "id": "fe6f904d",
   "metadata": {},
   "outputs": [
    {
     "name": "stdout",
     "output_type": "stream",
     "text": [
      "1073741824000000000000000000000000000000\n"
     ]
    }
   ],
   "source": [
    "a = 20\n",
    "b = 30 \n",
    "c = a**b\n",
    "print(c)"
   ]
  },
  {
   "cell_type": "code",
   "execution_count": 8,
   "id": "39eb33d0",
   "metadata": {},
   "outputs": [
    {
     "name": "stdout",
     "output_type": "stream",
     "text": [
      "5\n"
     ]
    }
   ],
   "source": [
    "a = 50\n",
    "b = 10\n",
    "c = a//b\n",
    "print(c)"
   ]
  },
  {
   "cell_type": "code",
   "execution_count": 9,
   "id": "f7dedeab",
   "metadata": {},
   "outputs": [
    {
     "name": "stdout",
     "output_type": "stream",
     "text": [
      "2075.0000000000005\n"
     ]
    }
   ],
   "source": [
    "P = 10000\n",
    "t = 2.5\n",
    "r = 8.3\n",
    "\n",
    "i = P*t*r/100\n",
    "print(i)"
   ]
  },
  {
   "cell_type": "code",
   "execution_count": 10,
   "id": "7063a13e",
   "metadata": {},
   "outputs": [
    {
     "name": "stdout",
     "output_type": "stream",
     "text": [
      "10\n"
     ]
    }
   ],
   "source": [
    "# a = input() // this input function is used to take input from user"
   ]
  },
  {
   "cell_type": "code",
   "execution_count": 1,
   "id": "e36ae8bd",
   "metadata": {},
   "outputs": [
    {
     "name": "stdout",
     "output_type": "stream",
     "text": [
      "Enter your= 23\n",
      "Enter your age = 23\n",
      "46\n"
     ]
    }
   ],
   "source": [
    "a = int(input(\"Enter your= \"))\n",
    "b = int(input(\"Enter your age = \"))\n",
    "c = a+b\n",
    "print(c)\n"
   ]
  },
  {
   "cell_type": "code",
   "execution_count": 2,
   "id": "19b71fb5",
   "metadata": {},
   "outputs": [
    {
     "name": "stdout",
     "output_type": "stream",
     "text": [
      "Enter = 23.5\n",
      "Enter your = 24.5\n",
      "48.0\n"
     ]
    }
   ],
   "source": [
    "a = float(input(\"Enter = \"))\n",
    "b = float(input(\"Enter your = \"))\n",
    "c = a+b\n",
    "print(c)\n"
   ]
  },
  {
   "cell_type": "code",
   "execution_count": 3,
   "id": "fcd13063",
   "metadata": {},
   "outputs": [
    {
     "data": {
      "text/plain": [
       "'10'"
      ]
     },
     "execution_count": 3,
     "metadata": {},
     "output_type": "execute_result"
    }
   ],
   "source": [
    "# a = 10 converts integer into string.\n",
    "str(a)"
   ]
  },
  {
   "cell_type": "code",
   "execution_count": 4,
   "id": "b697acb1",
   "metadata": {},
   "outputs": [
    {
     "name": "stdout",
     "output_type": "stream",
     "text": [
      "Enter p =2999\n",
      "Enter t =3.5\n",
      "Enter r =6.9\n",
      "The value of i = 724.2585\n"
     ]
    }
   ],
   "source": [
    "#WAP to calculate the value of i in \n",
    "# i = p*t*r/100\n",
    "\n",
    "p = int(input(\"Enter p =\"))\n",
    "t = float(input(\"Enter t =\"))\n",
    "r = float(input(\"Enter r =\"))\n",
    "\n",
    "i = p*t*r/100\n",
    "\n",
    "print(\"The value of i =\",i)\n",
    " "
   ]
  },
  {
   "cell_type": "code",
   "execution_count": null,
   "id": "4439b92f",
   "metadata": {},
   "outputs": [],
   "source": []
  }
 ],
 "metadata": {
  "kernelspec": {
   "display_name": "Python 3 (ipykernel)",
   "language": "python",
   "name": "python3"
  },
  "language_info": {
   "codemirror_mode": {
    "name": "ipython",
    "version": 3
   },
   "file_extension": ".py",
   "mimetype": "text/x-python",
   "name": "python",
   "nbconvert_exporter": "python",
   "pygments_lexer": "ipython3",
   "version": "3.9.12"
  }
 },
 "nbformat": 4,
 "nbformat_minor": 5
}
