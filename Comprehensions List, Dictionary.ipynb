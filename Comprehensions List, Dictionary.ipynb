{
 "cells": [
  {
   "cell_type": "code",
   "execution_count": 1,
   "id": "c9f83d21",
   "metadata": {},
   "outputs": [],
   "source": [
    "# Comprehensions: List, Dictionary"
   ]
  },
  {
   "cell_type": "code",
   "execution_count": 2,
   "id": "ae1af0ac",
   "metadata": {},
   "outputs": [
    {
     "data": {
      "text/plain": [
       "[0, 1, 2, 3, 4, 5, 6, 7, 8, 9]"
      ]
     },
     "execution_count": 2,
     "metadata": {},
     "output_type": "execute_result"
    }
   ],
   "source": [
    "a = [i for i in range(10)]\n",
    "a"
   ]
  },
  {
   "cell_type": "code",
   "execution_count": 3,
   "id": "c067a766",
   "metadata": {},
   "outputs": [
    {
     "data": {
      "text/plain": [
       "[0, 2, 4, 6, 8]"
      ]
     },
     "execution_count": 3,
     "metadata": {},
     "output_type": "execute_result"
    }
   ],
   "source": [
    "a = [i for i in range(10) if i%2 == 0]\n",
    "a"
   ]
  },
  {
   "cell_type": "code",
   "execution_count": 9,
   "id": "1616a18d",
   "metadata": {},
   "outputs": [
    {
     "data": {
      "text/plain": [
       "['Apple', 'Ball', 'Cat', 'Dog', 'Fish']"
      ]
     },
     "execution_count": 9,
     "metadata": {},
     "output_type": "execute_result"
    }
   ],
   "source": [
    "a = [\"Apple\",\"Ball\",\"Cat\",\"Dog\",\"Fish\"]\n",
    "\n",
    "b = [i for i in a if i[0].isupper()]\n",
    "b"
   ]
  },
  {
   "cell_type": "code",
   "execution_count": 2,
   "id": "0d50689a",
   "metadata": {},
   "outputs": [
    {
     "name": "stdout",
     "output_type": "stream",
     "text": [
      "Enter value =2\n",
      "23\n",
      "Enter value =4\n",
      "45\n",
      "Enter value =6\n",
      "67\n",
      "Enter value =8\n",
      "89\n",
      "Enter value =10\n",
      "1011\n"
     ]
    }
   ],
   "source": [
    "b = [input(input(\"Enter value =\")) for i in range(5)]"
   ]
  },
  {
   "cell_type": "markdown",
   "id": "cd8e3486",
   "metadata": {},
   "source": [
    "b"
   ]
  },
  {
   "cell_type": "code",
   "execution_count": 1,
   "id": "f1d8003f",
   "metadata": {},
   "outputs": [
    {
     "name": "stdout",
     "output_type": "stream",
     "text": [
      "Enter n = 2\n",
      "Enter x = 12\n",
      "Enter x = 13\n"
     ]
    }
   ],
   "source": [
    "b = []\n",
    "i = 0\n",
    "n = int(input(\"Enter n = \"))\n",
    "while i<n :\n",
    "    try:\n",
    "        x = int(input(\"Enter x = \"))\n",
    "        b.append(x)\n",
    "        i = i+1\n",
    "    except:\n",
    "        print(\"You have entered invalid value\")\n",
    "        continue"
   ]
  },
  {
   "cell_type": "code",
   "execution_count": null,
   "id": "ed4cc319",
   "metadata": {},
   "outputs": [],
   "source": []
  }
 ],
 "metadata": {
  "kernelspec": {
   "display_name": "Python 3 (ipykernel)",
   "language": "python",
   "name": "python3"
  },
  "language_info": {
   "codemirror_mode": {
    "name": "ipython",
    "version": 3
   },
   "file_extension": ".py",
   "mimetype": "text/x-python",
   "name": "python",
   "nbconvert_exporter": "python",
   "pygments_lexer": "ipython3",
   "version": "3.9.12"
  }
 },
 "nbformat": 4,
 "nbformat_minor": 5
}
