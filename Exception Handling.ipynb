{
 "cells": [
  {
   "cell_type": "code",
   "execution_count": 1,
   "id": "6c643174",
   "metadata": {},
   "outputs": [],
   "source": [
    "#Exception handling"
   ]
  },
  {
   "cell_type": "code",
   "execution_count": 2,
   "id": "f9aa9c3d",
   "metadata": {},
   "outputs": [
    {
     "name": "stdout",
     "output_type": "stream",
     "text": [
      "Enter a =asdfa\n",
      "There is an error.\n"
     ]
    }
   ],
   "source": [
    "try:\n",
    "    a = int(input(\"Enter a =\"))\n",
    "    print(a)\n",
    "except:\n",
    "    print(\"There is an error.\")\n"
   ]
  },
  {
   "cell_type": "code",
   "execution_count": 4,
   "id": "c81bb67f",
   "metadata": {},
   "outputs": [
    {
     "name": "stdout",
     "output_type": "stream",
     "text": [
      "There is no such file.\n"
     ]
    }
   ],
   "source": [
    "try:\n",
    "    b = open('dataa.txt','r')\n",
    "    b.close()\n",
    "except:\n",
    "    print(\"There is no such file.\")"
   ]
  },
  {
   "cell_type": "code",
   "execution_count": 10,
   "id": "491ca3e6",
   "metadata": {},
   "outputs": [
    {
     "name": "stdout",
     "output_type": "stream",
     "text": [
      "Enter a = 10\n",
      "Enter b = 0\n",
      "The value of b can not be Zero\n"
     ]
    }
   ],
   "source": [
    "try:\n",
    "    a = int(input(\"Enter a = \"))\n",
    "    b = int(input(\"Enter b = \")) \n",
    "    c = a/b\n",
    "    print(c)\n",
    "    \n",
    "except ValueError:\n",
    "    print(\"Please enter valid int\")    \n",
    "except ZeroDivisionError:\n",
    "    print(\"The value of b can not be Zero\")"
   ]
  },
  {
   "cell_type": "code",
   "execution_count": 12,
   "id": "da3793ae",
   "metadata": {},
   "outputs": [
    {
     "name": "stdout",
     "output_type": "stream",
     "text": [
      "Enter a = 10\n",
      "Enter b = 3\n",
      "3.3333333333333335\n",
      "3.3333333333333335\n"
     ]
    }
   ],
   "source": [
    "try:\n",
    "    a = int(input(\"Enter a = \"))\n",
    "    b = int(input(\"Enter b = \")) \n",
    "    c = a/b\n",
    "    print(c)\n",
    "    \n",
    "except ValueError:\n",
    "    print(\"Please enter valid int\")    \n",
    "except ZeroDivisionError:\n",
    "    print(\"The value of b can not be Zero\")\n",
    "else:\n",
    "    print(c)"
   ]
  },
  {
   "cell_type": "code",
   "execution_count": null,
   "id": "73487eaf",
   "metadata": {},
   "outputs": [],
   "source": []
  }
 ],
 "metadata": {
  "kernelspec": {
   "display_name": "Python 3 (ipykernel)",
   "language": "python",
   "name": "python3"
  },
  "language_info": {
   "codemirror_mode": {
    "name": "ipython",
    "version": 3
   },
   "file_extension": ".py",
   "mimetype": "text/x-python",
   "name": "python",
   "nbconvert_exporter": "python",
   "pygments_lexer": "ipython3",
   "version": "3.9.12"
  }
 },
 "nbformat": 4,
 "nbformat_minor": 5
}
