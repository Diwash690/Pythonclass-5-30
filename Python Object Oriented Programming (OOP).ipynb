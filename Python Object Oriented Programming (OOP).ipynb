{
 "cells": [
  {
   "cell_type": "code",
   "execution_count": 1,
   "id": "8730439f",
   "metadata": {},
   "outputs": [],
   "source": [
    "# class <class_name>:\n",
    "#    <methods>\n",
    "#    <attributes>\n",
    "# obj = <class_name>()    "
   ]
  },
  {
   "cell_type": "code",
   "execution_count": 3,
   "id": "7c3a23b0",
   "metadata": {},
   "outputs": [
    {
     "name": "stdout",
     "output_type": "stream",
     "text": [
      "Hello world\n"
     ]
    }
   ],
   "source": [
    "class Hello:              #class\n",
    "    print(\"Hello world\")\n",
    "# obj = Hello()           #object"
   ]
  },
  {
   "cell_type": "code",
   "execution_count": 7,
   "id": "6ab0b0e2",
   "metadata": {},
   "outputs": [
    {
     "name": "stdout",
     "output_type": "stream",
     "text": [
      "Hello world\n"
     ]
    }
   ],
   "source": [
    "class Hello:              #class\n",
    "    def hello(self):\n",
    "        print(\"Hello world\")\n",
    "obj = Hello()            #object\n",
    "obj.hello()"
   ]
  },
  {
   "cell_type": "code",
   "execution_count": 18,
   "id": "ae5cb3c1",
   "metadata": {},
   "outputs": [
    {
     "name": "stdout",
     "output_type": "stream",
     "text": [
      "20\n",
      "400\n"
     ]
    }
   ],
   "source": [
    "class Cal:\n",
    "    def area(self):\n",
    "        l = 10 \n",
    "        b = 2 \n",
    "        a = l*b\n",
    "        print(a)\n",
    "        \n",
    "    def volume(self):\n",
    "        l = 20 \n",
    "        b = 10 \n",
    "        h = 2\n",
    "        v = l*b*h\n",
    "        print(v)\n",
    "obj = Cal()\n",
    "obj.area()\n",
    "obj.volume()"
   ]
  },
  {
   "cell_type": "code",
   "execution_count": 20,
   "id": "0fff3f03",
   "metadata": {},
   "outputs": [
    {
     "name": "stdout",
     "output_type": "stream",
     "text": [
      "20\n",
      "100\n"
     ]
    }
   ],
   "source": [
    "class Cal:\n",
    "    def area(self,l,b):\n",
    "        l = 10 \n",
    "        b = 2 \n",
    "        a = l*b\n",
    "        print(a)\n",
    "        \n",
    "    def volume(self,l,b,h):\n",
    "        v = l*b*h\n",
    "        print(v)\n",
    "obj = Cal()\n",
    "obj.area(10,5)\n",
    "obj.volume(10,5,2)"
   ]
  },
  {
   "cell_type": "code",
   "execution_count": 21,
   "id": "fff330a6",
   "metadata": {},
   "outputs": [
    {
     "data": {
      "text/plain": [
       "(50, 100)"
      ]
     },
     "execution_count": 21,
     "metadata": {},
     "output_type": "execute_result"
    }
   ],
   "source": [
    "class Cal:\n",
    "    def cal(self,l,b,h):\n",
    "        a = l*b\n",
    "        v = l*b*h\n",
    "        return a,v\n",
    "obj = Cal()\n",
    "obj.cal(10,5,2)"
   ]
  },
  {
   "cell_type": "code",
   "execution_count": 29,
   "id": "7b8e62ac",
   "metadata": {},
   "outputs": [
    {
     "name": "stdout",
     "output_type": "stream",
     "text": [
      "50\n",
      "100\n"
     ]
    }
   ],
   "source": [
    "class Cal:\n",
    "    def __init__(self,l,b,h):\n",
    "        self.l = l\n",
    "        self.b = b\n",
    "        self.h = h\n",
    "    def area(self):\n",
    "        a = self.l*self.b\n",
    "        print(a)\n",
    "    def volume(self):\n",
    "        v = self.l*self.b*self.h\n",
    "        print(v)\n",
    "        \n",
    "obj = Cal(10,5,2)\n",
    "obj.area()\n",
    "obj.volume()"
   ]
  },
  {
   "cell_type": "code",
   "execution_count": 34,
   "id": "f88702aa",
   "metadata": {},
   "outputs": [
    {
     "name": "stdout",
     "output_type": "stream",
     "text": [
      "50\n",
      "100\n"
     ]
    }
   ],
   "source": [
    "class Area:\n",
    "    def __init__(self,l,b):\n",
    "        self.l = l \n",
    "        self.b = b\n",
    "    def area(self):\n",
    "        a = self.l*self.b\n",
    "        print(a)\n",
    "        \n",
    "class volume:\n",
    "    def __init__(self,l,b,h):\n",
    "        self.l = l \n",
    "        self.b = b \n",
    "        self.h = h\n",
    "    \n",
    "    def volume(self):\n",
    "        v = self.l*self.b*self.h\n",
    "        print(v)\n",
    "        \n",
    "obj1 = Area(10,5)\n",
    "obj2 = volume(10,5,2)\n",
    "obj1.area()\n",
    "obj2.volume()\n",
    "    "
   ]
  },
  {
   "cell_type": "code",
   "execution_count": 20,
   "id": "a78b656c",
   "metadata": {},
   "outputs": [
    {
     "name": "stdout",
     "output_type": "stream",
     "text": [
      "Enter name = RAm\n",
      "Enter age = 12\n",
      "Enter address = Gaighat, udayapur\n",
      "RAm <class 'method'>\n",
      "RAm <class '__main__.Information'>\n"
     ]
    }
   ],
   "source": [
    "class Information:\n",
    "    def __init__(self):\n",
    "        self.name = input(\"Enter name = \")\n",
    "        self.age = int(input(\"Enter age = \"))\n",
    "        self.address = input(\"Enter address = \")\n",
    "                        \n",
    "    def info(self):\n",
    "        return self.name\n",
    "                        \n",
    "    def __str__(self):\n",
    "        return self.name\n",
    "                        \n",
    "obj = Information()\n",
    "print(obj.info(),type(obj.info))\n",
    "print(obj,type(obj))"
   ]
  },
  {
   "cell_type": "code",
   "execution_count": null,
   "id": "1d22f785",
   "metadata": {},
   "outputs": [],
   "source": [
    "## Inheritance ##\n"
   ]
  },
  {
   "cell_type": "code",
   "execution_count": null,
   "id": "14761949",
   "metadata": {},
   "outputs": [],
   "source": [
    "# class A:\n",
    "#    pass\n",
    "# class B(A):\n",
    "#    pass\n",
    "\n",
    "# obj = B()"
   ]
  },
  {
   "cell_type": "code",
   "execution_count": 7,
   "id": "7725f976",
   "metadata": {},
   "outputs": [
    {
     "name": "stdout",
     "output_type": "stream",
     "text": [
      "Enter name = Ram\n",
      "Enter age = 12\n",
      "Enter add = BKT\n",
      "Hello World I am Ram, I am from BKT and .I am 12 years old.\n"
     ]
    }
   ],
   "source": [
    "class A:\n",
    "    def __init__ (self):\n",
    "        self.name = input(\"Enter name = \")\n",
    "        self.age = int(input(\"Enter age = \"))\n",
    "        self.add = input(\"Enter add = \")\n",
    "class B(A):\n",
    "    def info(self):\n",
    "        d = f\"Hello World I am {self.name}, I am from {self.add} and .I am {self.age} years old.\"\n",
    "        print(d)\n",
    "obj = B()\n",
    "obj.info()"
   ]
  },
  {
   "cell_type": "code",
   "execution_count": 10,
   "id": "985da266",
   "metadata": {},
   "outputs": [
    {
     "name": "stdout",
     "output_type": "stream",
     "text": [
      "Enter name = Ram\n",
      "Enter age = 12\n",
      "Enter add = BKT\n",
      "Hello World I am Ram, I am from BKT and .I am 12 years old.\n"
     ]
    }
   ],
   "source": [
    "class A:\n",
    "    def __init__ (self,name,age,add):\n",
    "        self.name = name \n",
    "        self.age = age\n",
    "        self.add = add\n",
    "class B(A):\n",
    "    def info(self):\n",
    "        d = f\"Hello World I am {self.name}, I am from {self.add} and .I am {self.age} years old.\"\n",
    "        print(d)\n",
    "        \n",
    "name = input(\"Enter name = \")\n",
    "age = int(input(\"Enter age = \"))\n",
    "add = input(\"Enter add = \")\n",
    "                \n",
    "obj = B(name,age,add)\n",
    "obj.info()"
   ]
  },
  {
   "cell_type": "code",
   "execution_count": 14,
   "id": "b2bbda05",
   "metadata": {},
   "outputs": [
    {
     "name": "stdout",
     "output_type": "stream",
     "text": [
      "Enter name = Ram\n",
      "Enter age = 12\n",
      "Enter add = BKT\n",
      "Hello World I am Ram, I am from BKT and .I am 12 years old.\n"
     ]
    }
   ],
   "source": [
    "class A:\n",
    "    def __init__ (self,add):\n",
    "        self.add = add\n",
    "        \n",
    "class B(A):\n",
    "    def __init__(self,name,age,add):\n",
    "        self.name = name \n",
    "        self.age  = age \n",
    "        A. __init__(self,add)\n",
    "        \n",
    "    def info(self):\n",
    "        d = f\"Hello World I am {self.name}, I am from {self.add} and .I am {self.age} years old.\"\n",
    "        print(d)\n",
    "        \n",
    "name = input(\"Enter name = \")\n",
    "age = int(input(\"Enter age = \"))\n",
    "add = input(\"Enter add = \")\n",
    "                \n",
    "obj = B(name,age,add)\n",
    "obj.info()"
   ]
  },
  {
   "cell_type": "code",
   "execution_count": null,
   "id": "1749397c",
   "metadata": {},
   "outputs": [],
   "source": [
    "# Multi level\n",
    "\n",
    "class A:\n",
    "    pass\n",
    "\n",
    "class B(A):\n",
    "    pass\n",
    "\n",
    "class C(B):\n",
    "    pass\n",
    "\n",
    "obj = C()"
   ]
  },
  {
   "cell_type": "code",
   "execution_count": null,
   "id": "b5144526",
   "metadata": {},
   "outputs": [],
   "source": [
    "# Multiple\n",
    "\n",
    "class A:\n",
    "    pass\n",
    "\n",
    "class B:\n",
    "    pass\n",
    "\n",
    "class C(A,B):\n",
    "    pass\n",
    "\n",
    "obj = C()"
   ]
  },
  {
   "cell_type": "code",
   "execution_count": 15,
   "id": "3747106b",
   "metadata": {},
   "outputs": [
    {
     "name": "stdout",
     "output_type": "stream",
     "text": [
      "Enter name = Ram\n",
      "Enter age = 12\n",
      "Enter add = BKT\n",
      "Hello World I am Ram, I am from 12 and .I am BKT years old.\n"
     ]
    }
   ],
   "source": [
    "class A:\n",
    "    def __init__ (self,add):\n",
    "        self.add = add\n",
    "\n",
    "class B(A):\n",
    "    def __init__(self,add,age):\n",
    "        self.age = age\n",
    "        A.__init__(self,add)\n",
    "        \n",
    "class C(A):\n",
    "    def __init__(self,name,age,add):\n",
    "        self.name = name \n",
    "        B. __init__(self,age,add)\n",
    "        \n",
    "    def info(self):\n",
    "        d = f\"Hello World I am {self.name}, I am from {self.add} and .I am {self.age} years old.\"\n",
    "        print(d)\n",
    "        \n",
    "name = input(\"Enter name = \")\n",
    "age = int(input(\"Enter age = \"))\n",
    "add = input(\"Enter add = \")\n",
    "                \n",
    "obj = C(name,age,add)\n",
    "obj.info()"
   ]
  },
  {
   "cell_type": "code",
   "execution_count": 17,
   "id": "301bb8dd",
   "metadata": {},
   "outputs": [
    {
     "name": "stdout",
     "output_type": "stream",
     "text": [
      "Enter name = Ram\n",
      "Enter age = 12\n",
      "Enter add = BKT\n",
      "Hello World I am Ram, I am from BKT and .I am 12 years old.\n"
     ]
    }
   ],
   "source": [
    "class A:\n",
    "    def __init__ (self,add):\n",
    "        self.add = add\n",
    "\n",
    "class B:\n",
    "    def __init__(self,age):\n",
    "        self.age = age\n",
    "        \n",
    "class C(A,B):\n",
    "    def __init__(self,name,age,add):\n",
    "        self.name = name\n",
    "        B. __init__(self,age)\n",
    "        A. __init__(self,add)\n",
    "        \n",
    "    def info(self):\n",
    "        d = f\"Hello World I am {self.name}, I am from {self.add} and .I am {self.age} years old.\"\n",
    "        print(d)\n",
    "        \n",
    "name = input(\"Enter name = \")\n",
    "age = int(input(\"Enter age = \"))\n",
    "add = input(\"Enter add = \")\n",
    "                \n",
    "obj = C(name,age,add)\n",
    "obj.info()"
   ]
  },
  {
   "cell_type": "code",
   "execution_count": 1,
   "id": "2ce0b0fd",
   "metadata": {},
   "outputs": [],
   "source": [
    "# Private \n",
    "# Public\n",
    "# Protected "
   ]
  },
  {
   "cell_type": "code",
   "execution_count": 2,
   "id": "d9f38e74",
   "metadata": {},
   "outputs": [
    {
     "name": "stdout",
     "output_type": "stream",
     "text": [
      "Ram\n",
      "34\n",
      "Kathmandu\n"
     ]
    }
   ],
   "source": [
    "# PUBLIC #\n",
    "\n",
    "class Information:\n",
    "    def __init__(self,name,age,address):\n",
    "        self.name = name\n",
    "        self.age = age\n",
    "        self.address = address\n",
    "        \n",
    "obj = Information(\"Ram\",34,\"Kathmandu\")\n",
    "print(obj.name)\n",
    "print(obj.age)\n",
    "print(obj.address)\n"
   ]
  },
  {
   "cell_type": "code",
   "execution_count": 3,
   "id": "155e80b9",
   "metadata": {},
   "outputs": [
    {
     "name": "stdout",
     "output_type": "stream",
     "text": [
      "Ram\n",
      "34\n",
      "Kathmandu\n"
     ]
    }
   ],
   "source": [
    "## Protected ##\n",
    "\n",
    "class Information:\n",
    "    def __init__(self,name,age,address):\n",
    "        self._name = name\n",
    "        self._age = age\n",
    "        self._address = address\n",
    "        \n",
    "obj = Information(\"Ram\",34,\"Kathmandu\")\n",
    "print(obj._name)\n",
    "print(obj._age)\n",
    "print(obj._address)\n"
   ]
  },
  {
   "cell_type": "code",
   "execution_count": 4,
   "id": "385cbc56",
   "metadata": {},
   "outputs": [
    {
     "ename": "AttributeError",
     "evalue": "'Information' object has no attribute '__name'",
     "output_type": "error",
     "traceback": [
      "\u001b[1;31m---------------------------------------------------------------------------\u001b[0m",
      "\u001b[1;31mAttributeError\u001b[0m                            Traceback (most recent call last)",
      "Input \u001b[1;32mIn [4]\u001b[0m, in \u001b[0;36m<cell line: 10>\u001b[1;34m()\u001b[0m\n\u001b[0;32m      7\u001b[0m         \u001b[38;5;28mself\u001b[39m\u001b[38;5;241m.\u001b[39m__address \u001b[38;5;241m=\u001b[39m address\n\u001b[0;32m      9\u001b[0m obj \u001b[38;5;241m=\u001b[39m Information(\u001b[38;5;124m\"\u001b[39m\u001b[38;5;124mRam\u001b[39m\u001b[38;5;124m\"\u001b[39m,\u001b[38;5;241m34\u001b[39m,\u001b[38;5;124m\"\u001b[39m\u001b[38;5;124mKathmandu\u001b[39m\u001b[38;5;124m\"\u001b[39m)\n\u001b[1;32m---> 10\u001b[0m \u001b[38;5;28mprint\u001b[39m(\u001b[43mobj\u001b[49m\u001b[38;5;241;43m.\u001b[39;49m\u001b[43m__name\u001b[49m)\n\u001b[0;32m     11\u001b[0m \u001b[38;5;28mprint\u001b[39m(obj\u001b[38;5;241m.\u001b[39m__age)\n\u001b[0;32m     12\u001b[0m \u001b[38;5;28mprint\u001b[39m(obj\u001b[38;5;241m.\u001b[39m__address)\n",
      "\u001b[1;31mAttributeError\u001b[0m: 'Information' object has no attribute '__name'"
     ]
    }
   ],
   "source": [
    "# Private #\n",
    "\n",
    "class Information:\n",
    "    def __init__(self,name,age,address):\n",
    "        self.__name = name\n",
    "        self.__age = age\n",
    "        self.__address = address\n",
    "        \n",
    "obj = Information(\"Ram\",34,\"Kathmandu\")\n",
    "print(obj.__name)\n",
    "print(obj.__age)\n",
    "print(obj.__address)"
   ]
  },
  {
   "cell_type": "code",
   "execution_count": 17,
   "id": "2b56323c",
   "metadata": {},
   "outputs": [
    {
     "name": "stdout",
     "output_type": "stream",
     "text": [
      "Enter name = Ram\n",
      "Enter age = 12\n",
      "Enter add = BKT\n"
     ]
    },
    {
     "ename": "TypeError",
     "evalue": "__init__() takes 2 positional arguments but 3 were given",
     "output_type": "error",
     "traceback": [
      "\u001b[1;31m---------------------------------------------------------------------------\u001b[0m",
      "\u001b[1;31mTypeError\u001b[0m                                 Traceback (most recent call last)",
      "Input \u001b[1;32mIn [17]\u001b[0m, in \u001b[0;36m<cell line: 19>\u001b[1;34m()\u001b[0m\n\u001b[0;32m     16\u001b[0m age \u001b[38;5;241m=\u001b[39m \u001b[38;5;28mint\u001b[39m(\u001b[38;5;28minput\u001b[39m(\u001b[38;5;124m\"\u001b[39m\u001b[38;5;124mEnter age = \u001b[39m\u001b[38;5;124m\"\u001b[39m))\n\u001b[0;32m     17\u001b[0m add \u001b[38;5;241m=\u001b[39m \u001b[38;5;28minput\u001b[39m(\u001b[38;5;124m\"\u001b[39m\u001b[38;5;124mEnter add = \u001b[39m\u001b[38;5;124m\"\u001b[39m)\n\u001b[1;32m---> 19\u001b[0m obj \u001b[38;5;241m=\u001b[39m \u001b[43mB\u001b[49m\u001b[43m(\u001b[49m\u001b[43mname\u001b[49m\u001b[43m,\u001b[49m\u001b[43mage\u001b[49m\u001b[43m,\u001b[49m\u001b[43madd\u001b[49m\u001b[43m)\u001b[49m\n\u001b[0;32m     20\u001b[0m obj\u001b[38;5;241m.\u001b[39minfo()\n",
      "Input \u001b[1;32mIn [17]\u001b[0m, in \u001b[0;36mB.__init__\u001b[1;34m(self, name, age, add)\u001b[0m\n\u001b[0;32m      7\u001b[0m \u001b[38;5;28;01mdef\u001b[39;00m \u001b[38;5;21m__init__\u001b[39m(\u001b[38;5;28mself\u001b[39m,name,age,add):\n\u001b[0;32m      8\u001b[0m     \u001b[38;5;28mself\u001b[39m\u001b[38;5;241m.\u001b[39mname \u001b[38;5;241m=\u001b[39m name                      \u001b[38;5;66;03m# public\u001b[39;00m\n\u001b[1;32m----> 9\u001b[0m     \u001b[43mA\u001b[49m\u001b[38;5;241;43m.\u001b[39;49m\u001b[38;5;21;43m__init__\u001b[39;49m\u001b[43m(\u001b[49m\u001b[38;5;28;43mself\u001b[39;49m\u001b[43m,\u001b[49m\u001b[43madd\u001b[49m\u001b[43m,\u001b[49m\u001b[43mage\u001b[49m\u001b[43m)\u001b[49m\n",
      "\u001b[1;31mTypeError\u001b[0m: __init__() takes 2 positional arguments but 3 were given"
     ]
    }
   ],
   "source": [
    "class A:\n",
    "    def __init__ (self,add):\n",
    "        self.__add = add                       # private\n",
    "        self._age = age                        # protected\n",
    "         \n",
    "class B(A):\n",
    "    def __init__(self,name,age,add):\n",
    "        self.name = name                      # public\n",
    "        A.__init__(self,add,age)\n",
    "        \n",
    "    def info(self):\n",
    "        d = f\"Hello World I am {self.name}.I am {self._age} years old.\"\n",
    "        print(d)\n",
    "        \n",
    "name = input(\"Enter name = \")\n",
    "age = int(input(\"Enter age = \"))\n",
    "add = input(\"Enter add = \")\n",
    "                \n",
    "obj = B(name,age,add)\n",
    "obj.info()\n",
    "# print(obj.name)"
   ]
  },
  {
   "cell_type": "code",
   "execution_count": 16,
   "id": "ed6da1c5",
   "metadata": {},
   "outputs": [
    {
     "name": "stdout",
     "output_type": "stream",
     "text": [
      "Enter name = Ram\n",
      "Enter age = 12\n",
      "Enter add = nkt\n",
      "Hello World I am Ram.I am 12 years old.\n",
      "Hello world I am 12. I am fromnkt\n"
     ]
    }
   ],
   "source": [
    "class A:\n",
    "    def __init__ (self,add,age):\n",
    "        self.__add = add                       # private\n",
    "        self._age = age                        # protected\n",
    "        \n",
    "    def a(self):\n",
    "        print(f\"Hello world I am {self._age}. I am from{self.__add}\")\n",
    "            \n",
    "class B(A):\n",
    "    def __init__(self,name,age,add):\n",
    "        self.name = name                      # public\n",
    "        A.__init__(self,add,age)\n",
    "        \n",
    "    def info(self):\n",
    "        d = f\"Hello World I am {self.name}.I am {self._age} years old.\"\n",
    "        print(d)\n",
    "        \n",
    "name = input(\"Enter name = \")\n",
    "age = int(input(\"Enter age = \"))\n",
    "add = input(\"Enter add = \")\n",
    "obj = B(name,age,add)\n",
    "obj.info()\n",
    "obj.a()\n",
    "# print(obj.name)"
   ]
  },
  {
   "cell_type": "code",
   "execution_count": 13,
   "id": "04c50d59",
   "metadata": {},
   "outputs": [
    {
     "name": "stdout",
     "output_type": "stream",
     "text": [
      "Enter name = Ram\n",
      "Enter age = 12\n",
      "Enter add = BKT\n",
      "Hello World I am Ram,I am 12 years old.\n"
     ]
    }
   ],
   "source": [
    "class A:\n",
    "    def __init__ (self,add):\n",
    "        self.__add = add\n",
    "        def address(self):\n",
    "            return f\"Hello I am from {self.__add}\"\n",
    "\n",
    "class B:\n",
    "    def __init__(self,age):\n",
    "        self._age = age\n",
    "        \n",
    "class C(A,B):\n",
    "    def __init__(self,name,age,add):\n",
    "        self.name = name\n",
    "        B. __init__(self,age)\n",
    "        A. __init__(self,add)\n",
    "        \n",
    "    def info(self):\n",
    "        d = f\"Hello World I am {self.name},I am {self._age} years old.\"\n",
    "        print(d)\n",
    "        \n",
    "name = input(\"Enter name = \")\n",
    "age = int(input(\"Enter age = \"))\n",
    "add = input(\"Enter add = \")\n",
    "                \n",
    "obj = C(name,age,add)\n",
    "obj.info()"
   ]
  },
  {
   "cell_type": "code",
   "execution_count": 3,
   "id": "1e7a6035",
   "metadata": {},
   "outputs": [
    {
     "name": "stdout",
     "output_type": "stream",
     "text": [
      "Enter name = Ram\n",
      "Enter age = 12\n",
      "Enter add = BKT\n",
      "Hello World I am Ram, I am from BKT and .I am 12 years old.\n"
     ]
    }
   ],
   "source": [
    "# Super()\n",
    "\n",
    "class A:\n",
    "    def __init__ (self):\n",
    "        self.name = input(\"Enter name = \")\n",
    "        self.age = int(input(\"Enter age = \"))\n",
    "        self.add = input(\"Enter add = \")\n",
    "        \n",
    "    def info(self):\n",
    "        print(f\"Hello World I am {self.name}, I am from {self.add} and .I am {self.age} years old.\")\n",
    "class B(A):\n",
    "    def view_data(self):\n",
    "        super().info()\n",
    "        \n",
    "obj = B()\n",
    "obj.view_data()"
   ]
  },
  {
   "cell_type": "code",
   "execution_count": null,
   "id": "9253876f",
   "metadata": {},
   "outputs": [],
   "source": []
  },
  {
   "cell_type": "code",
   "execution_count": null,
   "id": "15fc3f65",
   "metadata": {},
   "outputs": [],
   "source": []
  },
  {
   "cell_type": "code",
   "execution_count": null,
   "id": "71aa2a45",
   "metadata": {},
   "outputs": [],
   "source": []
  },
  {
   "cell_type": "code",
   "execution_count": null,
   "id": "c9c311a9",
   "metadata": {},
   "outputs": [],
   "source": []
  },
  {
   "cell_type": "code",
   "execution_count": null,
   "id": "3ccd4ae8",
   "metadata": {},
   "outputs": [],
   "source": []
  },
  {
   "cell_type": "code",
   "execution_count": null,
   "id": "aa59e599",
   "metadata": {},
   "outputs": [],
   "source": []
  },
  {
   "cell_type": "code",
   "execution_count": null,
   "id": "b39c0abe",
   "metadata": {},
   "outputs": [],
   "source": []
  },
  {
   "cell_type": "code",
   "execution_count": null,
   "id": "6a2b07e9",
   "metadata": {},
   "outputs": [],
   "source": []
  },
  {
   "cell_type": "code",
   "execution_count": null,
   "id": "ad17d8f0",
   "metadata": {},
   "outputs": [],
   "source": []
  },
  {
   "cell_type": "code",
   "execution_count": null,
   "id": "c372fbab",
   "metadata": {},
   "outputs": [],
   "source": []
  }
 ],
 "metadata": {
  "kernelspec": {
   "display_name": "Python 3 (ipykernel)",
   "language": "python",
   "name": "python3"
  },
  "language_info": {
   "codemirror_mode": {
    "name": "ipython",
    "version": 3
   },
   "file_extension": ".py",
   "mimetype": "text/x-python",
   "name": "python",
   "nbconvert_exporter": "python",
   "pygments_lexer": "ipython3",
   "version": "3.9.12"
  }
 },
 "nbformat": 4,
 "nbformat_minor": 5
}
